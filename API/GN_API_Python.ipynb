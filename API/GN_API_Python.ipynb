{
 "cells": [
  {
   "cell_type": "markdown",
   "id": "965b8eb2-ae59-424d-9a25-dd61fb02ad87",
   "metadata": {},
   "source": [
    "## The following are python code to access the REST APIs from GeneNetwork web service "
   ]
  },
  {
   "cell_type": "markdown",
   "id": "51595d98-b09b-4a5c-8c0f-155659fb8853",
   "metadata": {
    "tags": []
   },
   "source": [
    "### Prepare the working environment "
   ]
  },
  {
   "cell_type": "code",
   "execution_count": 3,
   "id": "cf55c390-01b0-4ce3-9efd-9c273a19f979",
   "metadata": {},
   "outputs": [],
   "source": [
    "## install the request library using pip \n",
    "import requests "
   ]
  },
  {
   "cell_type": "markdown",
   "id": "35dad985-ac56-403e-a3a8-e53bfb64cf27",
   "metadata": {},
   "source": [
    "### Fetching Dataset/Trait info/Data "
   ]
  },
  {
   "cell_type": "code",
   "execution_count": 5,
   "id": "3163464d-971b-408e-bf98-1f4298cffaa1",
   "metadata": {},
   "outputs": [
    {
     "name": "stdout",
     "output_type": "stream",
     "text": [
      "[{'FullName': 'Mus musculus', 'Id': 1, 'Name': 'mouse', 'TaxonomyId': 10090}, {'FullName': 'Rattus norvegicus', 'Id': 2, 'Name': 'rat', 'TaxonomyId': 10116}, {'FullName': 'Arabidopsis thaliana', 'Id': 3, 'Name': 'arabidopsis', 'TaxonomyId': 3702}, {'FullName': 'Homo sapiens', 'Id': 4, 'Name': 'human', 'TaxonomyId': 9606}, {'FullName': 'Hordeum vulgare', 'Id': 5, 'Name': 'barley', 'TaxonomyId': 4513}, {'FullName': 'Fly (Drosophila melanogaster dm6)', 'Id': 6, 'Name': 'drosophila', 'TaxonomyId': 7227}, {'FullName': 'Macaca mulatta', 'Id': 7, 'Name': 'monkey', 'TaxonomyId': 9544}, {'FullName': 'Glycine max', 'Id': 8, 'Name': 'soybean', 'TaxonomyId': 3847}, {'FullName': 'Solanum lycopersicum', 'Id': 9, 'Name': 'tomato', 'TaxonomyId': 4081}, {'FullName': 'Populus trichocarpa', 'Id': 10, 'Name': 'poplar', 'TaxonomyId': 3689}, {'FullName': 'Oryzias latipes (Japanese medaka)', 'Id': 11, 'Name': 'medaka', 'TaxonomyId': 8090}, {'FullName': 'Bat (Glossophaga soricina)', 'Id': 12, 'Name': 'bat', 'TaxonomyId': 27638}]\n",
      "\n",
      "200\n"
     ]
    }
   ],
   "source": [
    "## Fetch species list \n",
    "\n",
    "api_url = \"https://genenetwork.org/api/v_pre1/species\"\n",
    "response = requests.get(api_url) # the get request method accesses the resources in the webservice \n",
    "print(response.json()) # prints the species list in json format \n",
    "print()\n",
    "print(response.status_code) # prints the http status code (200 means its successful)"
   ]
  },
  {
   "cell_type": "code",
   "execution_count": 6,
   "id": "26916f4b-003f-487a-b244-f515bfdc8a1a",
   "metadata": {},
   "outputs": [
    {
     "name": "stdout",
     "output_type": "stream",
     "text": [
      "{'FullName': 'Mus musculus', 'Id': 1, 'Name': 'mouse', 'TaxonomyId': 10090}\n",
      "\n",
      "200\n"
     ]
    }
   ],
   "source": [
    "## Get a species info (in this case, a mouse), \n",
    "\n",
    "api_url = \"https://genenetwork.org/api/v_pre1/species/mouse\"\n",
    "response = requests.get(api_url) \n",
    "print(response.json())\n",
    "print()\n",
    "print(response.status_code)"
   ]
  },
  {
   "cell_type": "code",
   "execution_count": 8,
   "id": "ddf3c7b5-6067-49fe-b777-4d221955a61a",
   "metadata": {},
   "outputs": [
    {
     "name": "stdout",
     "output_type": "stream",
     "text": [
      "{'FullName': 'Mus musculus', 'Id': 1, 'Name': 'mouse', 'TaxonomyId': 10090}\n",
      "\n",
      "200\n"
     ]
    }
   ],
   "source": [
    "## OR \n",
    "api_url = \"https://genenetwork.org/api/v_pre1/species/mouse.json\"\n",
    "response = requests.get(api_url) \n",
    "print(response.json())\n",
    "print()\n",
    "print(response.status_code)"
   ]
  },
  {
   "cell_type": "code",
   "execution_count": 9,
   "id": "bc4e3a0a-9e7e-40d2-a864-1eef09454031",
   "metadata": {},
   "outputs": [
    {
     "name": "stdout",
     "output_type": "stream",
     "text": [
      "[{'DisplayName': 'BXD', 'FullName': 'BXD Family', 'GeneticType': 'riset', 'Id': 1, 'MappingMethodId': '1', 'Name': 'BXD', 'SpeciesId': 1, 'public': 2}, {'DisplayName': 'B6D2F2 OHSU Brain', 'FullName': 'B6D2F2 OHSU Brain', 'GeneticType': 'intercross', 'Id': 2, 'MappingMethodId': '1', 'Name': 'B6D2F2', 'SpeciesId': 1, 'public': 2}, {'DisplayName': 'AXB/BXA', 'FullName': 'AXB/BXA Family', 'GeneticType': 'None', 'Id': 4, 'MappingMethodId': '1', 'Name': 'AXBXA', 'SpeciesId': 1, 'public': 2}, {'DisplayName': 'AKXD', 'FullName': 'AKXD Family', 'GeneticType': 'None', 'Id': 5, 'MappingMethodId': '1', 'Name': 'AKXD', 'SpeciesId': 1, 'public': 2}, {'DisplayName': 'B6BTBRF2', 'FullName': 'B6BTBRF2', 'GeneticType': 'intercross', 'Id': 6, 'MappingMethodId': '1', 'Name': 'B6BTBRF2', 'SpeciesId': 1, 'public': 2}, {'DisplayName': 'BXH', 'FullName': 'BXH Family', 'GeneticType': 'None', 'Id': 7, 'MappingMethodId': '1', 'Name': 'BXH', 'SpeciesId': 1, 'public': 2}, {'DisplayName': 'CXB', 'FullName': 'CXB Family', 'GeneticType': 'None', 'Id': 8, 'MappingMethodId': '1', 'Name': 'CXB', 'SpeciesId': 1, 'public': 2}, {'DisplayName': 'LXS', 'FullName': 'ILSXISS (LXS) Family', 'GeneticType': 'None', 'Id': 9, 'MappingMethodId': '1', 'Name': 'LXS', 'SpeciesId': 1, 'public': 2}, {'DisplayName': 'Hybrid Rat Diversity Panel (Includes HXB/BXH)', 'FullName': 'Hybrid Rat Diversity Panel (Includes HXB/BXH)', 'GeneticType': 'None', 'Id': 10, 'MappingMethodId': '1', 'Name': 'HXBBXH', 'SpeciesId': 2, 'public': 2}, {'DisplayName': 'BayXSha', 'FullName': 'BayXSha', 'GeneticType': 'None', 'Id': 11, 'MappingMethodId': '1', 'Name': 'BayXSha', 'SpeciesId': 3, 'public': 2}, {'DisplayName': 'B6D2F2 OHSU Striatum', 'FullName': 'B6D2F2 OHSU Striatum', 'GeneticType': 'intercross', 'Id': 12, 'MappingMethodId': '1', 'Name': 'BDF2-2005', 'SpeciesId': 1, 'public': 2}, {'DisplayName': 'ColXCvi', 'FullName': 'ColXCvi', 'GeneticType': 'None', 'Id': 13, 'MappingMethodId': '1', 'Name': 'ColXCvi', 'SpeciesId': 3, 'public': 0}, {'DisplayName': 'ColXBur', 'FullName': 'ColXBur', 'GeneticType': 'None', 'Id': 14, 'MappingMethodId': '1', 'Name': 'ColXBur', 'SpeciesId': 3, 'public': 0}, {'DisplayName': 'Mouse Diversity Panel', 'FullName': 'Mouse Diversity Panel', 'GeneticType': 'None', 'Id': 15, 'MappingMethodId': '1', 'Name': 'MDP', 'SpeciesId': 1, 'public': 2}, {'DisplayName': 'SXM', 'FullName': 'SXM', 'GeneticType': 'None', 'Id': 16, 'MappingMethodId': '1', 'Name': 'SXM', 'SpeciesId': 5, 'public': 2}, {'DisplayName': 'B6D2F2 PSU Muscle', 'FullName': 'B6D2F2 PSU Muscle', 'GeneticType': 'intercross', 'Id': 17, 'MappingMethodId': '1', 'Name': 'B6D2F2-PSU', 'SpeciesId': 1, 'public': 2}, {'DisplayName': 'B6C3HF2(APOE-) UCLA Metabolism', 'FullName': 'B6C3HF2(APOE-) UCLA Metabolism', 'GeneticType': 'intercross', 'Id': 18, 'MappingMethodId': '1', 'Name': 'BHF2', 'SpeciesId': 1, 'public': 0}, {'DisplayName': 'B6D2F2 UCLA Liver', 'FullName': 'B6D2F2 UCLA Liver', 'GeneticType': 'intercross', 'Id': 19, 'MappingMethodId': '1', 'Name': 'BDF2-1999', 'SpeciesId': 1, 'public': 2}, {'DisplayName': 'CastB6/B6Cast F2 UCLA', 'FullName': 'CastB6/B6Cast F2 UCLA', 'GeneticType': 'intercross', 'Id': 20, 'MappingMethodId': '1', 'Name': 'CTB6F2', 'SpeciesId': 1, 'public': 2}, {'DisplayName': 'B6C3HF2 UCLA Metabolism', 'FullName': 'B6C3HF2 UCLA Metabolism', 'GeneticType': 'intercross', 'Id': 21, 'MappingMethodId': '1', 'Name': 'BHHBF2', 'SpeciesId': 1, 'public': 0}, {'DisplayName': 'Lymphoblastoid Cells: Gene Expression (CEPH, Williams)', 'FullName': 'Lymphoblastoid Cells: Gene Expression (CEPH, Williams)', 'GeneticType': 'None', 'Id': 22, 'MappingMethodId': 'None', 'Name': 'CEPH-2004', 'SpeciesId': 4, 'public': 2}, {'DisplayName': 'NZB/FVB N2 NCI', 'FullName': 'NZB/FVB N2 NCI', 'GeneticType': 'None', 'Id': 23, 'MappingMethodId': '1', 'Name': 'NZBXFVB-N2', 'SpeciesId': 1, 'public': 2}, {'DisplayName': 'UIOWA SRxSHRSP F2', 'FullName': 'UIOWA SRxSHRSP F2', 'GeneticType': 'intercross', 'Id': 24, 'MappingMethodId': '1', 'Name': 'SRxSHRSPF2', 'SpeciesId': 2, 'public': 2}, {'DisplayName': 'Brain, Aging: AD, Normal Gene Expression (Liang)', 'FullName': 'Brain, Aging: AD, Normal Gene Expression (Liang)', 'GeneticType': 'None', 'Id': 25, 'MappingMethodId': 'None', 'Name': 'AD-cases-controls', 'SpeciesId': 4, 'public': 2}, {'DisplayName': 'Brain, Aging: AD, Normal Gene Expression with Genotypes (Myers)', 'FullName': 'Brain, Aging: AD, Normal Gene Expression with Genotypes (Myers)', 'GeneticType': 'None', 'Id': 26, 'MappingMethodId': '2', 'Name': 'AD-cases-controls-Myers', 'SpeciesId': 4, 'public': 2}, {'DisplayName': 'QSM', 'FullName': 'QSM', 'GeneticType': 'None', 'Id': 27, 'MappingMethodId': '1', 'Name': 'QSM', 'SpeciesId': 5, 'public': 2}, {'DisplayName': 'CEPH 2009 families', 'FullName': 'CEPH 2009 families', 'GeneticType': 'None', 'Id': 28, 'MappingMethodId': 'None', 'Name': 'CEPH-2009', 'SpeciesId': 4, 'public': 2}, {'DisplayName': 'Oregon-R x 2b3', 'FullName': 'Oregon-R x 2b3', 'GeneticType': 'None', 'Id': 29, 'MappingMethodId': 'None', 'Name': 'Oregon-R_x_2b3', 'SpeciesId': 6, 'public': 2}, {'DisplayName': 'Macaca fasicularis (Cynomolgus monkey)', 'FullName': 'Macaca fasicularis (Cynomolgus monkey)', 'GeneticType': 'None', 'Id': 30, 'MappingMethodId': '1', 'Name': 'Macaca-fasicularis', 'SpeciesId': 7, 'public': 2}, {'DisplayName': 'Heterogeneous Stock', 'FullName': 'Heterogeneous Stock', 'GeneticType': 'None', 'Id': 31, 'MappingMethodId': 'None', 'Name': 'HS', 'SpeciesId': 1, 'public': 2}, {'DisplayName': 'Drosophila Genetic Reference Panel', 'FullName': 'Drosophila Genetic Reference Panel', 'GeneticType': 'None', 'Id': 32, 'MappingMethodId': 'None', 'Name': 'DGRP', 'SpeciesId': 6, 'public': 2}, {'DisplayName': 'Heterogeneous Stock Collaborative Cross', 'FullName': 'DO Hitzemann Striatum mRNA n=90 (Feb11, no mapping)', 'GeneticType': 'None', 'Id': 33, 'MappingMethodId': 'None', 'Name': 'HS-CC', 'SpeciesId': 1, 'public': 2}, {'DisplayName': 'Liver: Normal Gene Expression with Genotypes (Merck)', 'FullName': 'Liver: Normal Gene Expression with Genotypes (Merck)', 'GeneticType': 'None', 'Id': 34, 'MappingMethodId': '2', 'Name': 'HLC', 'SpeciesId': 4, 'public': 2}, {'DisplayName': 'Child Development: CANDLE Cohort with Genotypes (TUCI/UTHSC)', 'FullName': 'Child Development: CANDLE Cohort with Genotypes (TUCI/UTHSC)', 'GeneticType': 'None', 'Id': 35, 'MappingMethodId': 'None', 'Name': 'CANDLE', 'SpeciesId': 4, 'public': 2}, {'DisplayName': 'Brain, Aging: AD, HD, Normal Gene Expression (Harvard/Merck)', 'FullName': 'Brain, Aging: AD, HD, Normal Gene Expression (Harvard/Merck)', 'GeneticType': 'None', 'Id': 36, 'MappingMethodId': 'None', 'Name': 'HB', 'SpeciesId': 4, 'public': 2}, {'DisplayName': 'Brain, Development: Normal Gene Expression (Yale/Sestan)', 'FullName': 'Brain, Development: Normal Gene Expression (Yale/Sestan)', 'GeneticType': 'None', 'Id': 37, 'MappingMethodId': 'None', 'Name': 'HSB', 'SpeciesId': 4, 'public': 2}, {'DisplayName': 'J12XJ58F2', 'FullName': 'J12XJ58F2', 'GeneticType': 'intercross', 'Id': 38, 'MappingMethodId': '1', 'Name': 'J12XJ58F2', 'SpeciesId': 8, 'public': 2}, {'DisplayName': 'LXP', 'FullName': 'LXP', 'GeneticType': 'None', 'Id': 39, 'MappingMethodId': '1', 'Name': 'LXP', 'SpeciesId': 9, 'public': 2}, {'DisplayName': 'BXD Aged Hippocampus', 'FullName': 'BXD Aged Hippocampus', 'GeneticType': 'intercross', 'Id': 40, 'MappingMethodId': '1', 'Name': 'B6D2RI', 'SpeciesId': 1, 'public': 2}, {'DisplayName': 'SOTNOT-OHSU', 'FullName': 'SOTNOT-OHSU', 'GeneticType': 'riset', 'Id': 41, 'MappingMethodId': '1', 'Name': 'SOTNOT-OHSU', 'SpeciesId': 1, 'public': 2}, {'DisplayName': 'NIH Heterogeneous Stock (RGSMC 2013)', 'FullName': 'NIH Heterogeneous Stock (RGSMC 2013)', 'GeneticType': 'None', 'Id': 42, 'MappingMethodId': '1', 'Name': 'HSNIH-RGSMC', 'SpeciesId': 2, 'public': 2}, {'DisplayName': 'Reduced Complexity Cross (B6JxB6N F2)', 'FullName': 'Reduced Complexity Cross (B6JxB6N F2)', 'GeneticType': 'intercross', 'Id': 43, 'MappingMethodId': '1', 'Name': 'C57BL-6JxC57BL-6NJF2', 'SpeciesId': 1, 'public': 2}, {'DisplayName': 'Scripps C57BL/6J', 'FullName': 'Scripps C57BL/6J', 'GeneticType': 'intercross', 'Id': 44, 'MappingMethodId': '1', 'Name': 'Scripps-2013', 'SpeciesId': 1, 'public': 2}, {'DisplayName': 'Lung: Normal Gene Expression (Merck)', 'FullName': 'Lung: Normal Gene Expression (Merck)', 'GeneticType': 'None', 'Id': 45, 'MappingMethodId': '2', 'Name': 'HLT', 'SpeciesId': 4, 'public': 2}, {'DisplayName': 'Brain, Aging: Normal Gene Expression (UCI/Cotman)', 'FullName': 'Brain, Aging: Normal Gene Expression (UCI/Cotman)', 'GeneticType': 'None', 'Id': 46, 'MappingMethodId': 'None', 'Name': 'Aging-Brain-UCI', 'SpeciesId': 4, 'public': 2}, {'DisplayName': 'B6D2 EtOH Selected Advanced Intercross', 'FullName': 'B6D2 EtOH Selected Advanced Intercross', 'GeneticType': 'intercross', 'Id': 47, 'MappingMethodId': '1', 'Name': 'Linsenbardt-Boehm', 'SpeciesId': 1, 'public': 2}, {'DisplayName': 'Brain: Normal Gene Expression (NIH/Gibbs)', 'FullName': 'Brain: Normal Gene Expression (NIH/Gibbs)', 'GeneticType': 'None', 'Id': 48, 'MappingMethodId': 'None', 'Name': 'Brain-Normal-NIH-Gibbs', 'SpeciesId': 4, 'public': 2}, {'DisplayName': 'GTEx v3 All Tissues, RNA-Seq with Genotypes', 'FullName': 'GTEx v3 All Tissues, RNA-Seq with Genotypes', 'GeneticType': 'None', 'Id': 49, 'MappingMethodId': '2', 'Name': 'GTEx', 'SpeciesId': 4, 'public': 2}, {'DisplayName': 'J12XJ58F11', 'FullName': 'J12XJ58F11', 'GeneticType': 'None', 'Id': 50, 'MappingMethodId': '1', 'Name': 'J12XJ58F11', 'SpeciesId': 8, 'public': 2}, {'DisplayName': 'Brain, Cognition, Human Connectome Project', 'FullName': 'Brain, Cognition, Human Connectome Project', 'GeneticType': 'None', 'Id': 51, 'MappingMethodId': 'None', 'Name': 'HCP', 'SpeciesId': 4, 'public': 2}, {'DisplayName': 'GTEx v5 All Tissues, RNA-Seq with Genotypes', 'FullName': 'GTEx v5 All Tissues, RNA-Seq with Genotypes', 'GeneticType': 'None', 'Id': 52, 'MappingMethodId': '2', 'Name': 'GTEx_v5', 'SpeciesId': 4, 'public': 2}, {'DisplayName': 'Chronic Mild Stress', 'FullName': 'Chronic Mild Stress', 'GeneticType': 'riset', 'Id': 53, 'MappingMethodId': 'None', 'Name': 'CMS', 'SpeciesId': 1, 'public': 2}, {'DisplayName': 'Chronic Intermittent Ethanol Phase 1', 'FullName': 'Chronic Intermittent Ethanol Phase 1', 'GeneticType': 'riset', 'Id': 54, 'MappingMethodId': 'None', 'Name': 'CIE-INIA', 'SpeciesId': 1, 'public': 2}, {'DisplayName': 'NIH Heterogeneous Stock (Palmer)', 'FullName': 'NIH Heterogeneous Stock (Palmer)', 'GeneticType': 'None', 'Id': 55, 'MappingMethodId': 'None', 'Name': 'HSNIH-Palmer', 'SpeciesId': 2, 'public': 2}, {'DisplayName': 'Retina: Normal Adult Gene Expression, RNA-Seq (TIGEM)', 'FullName': 'Retina: Normal Adult Gene Expression, RNA-Seq (TIGEM)', 'GeneticType': 'None', 'Id': 56, 'MappingMethodId': 'None', 'Name': 'TIGEM-Retina-RNA-Seq', 'SpeciesId': 4, 'public': 2}, {'DisplayName': 'Glaucoma and Aged Retina UTHSC', 'FullName': 'Glaucoma and Aged Retina UTHSC', 'GeneticType': 'None', 'Id': 57, 'MappingMethodId': 'None', 'Name': 'B6D2', 'SpeciesId': 1, 'public': 2}, {'DisplayName': 'BXD Bone Individual Data', 'FullName': 'BXD Bone Individual Data', 'GeneticType': 'intercross', 'Id': 58, 'MappingMethodId': '1', 'Name': 'BXD-Bone', 'SpeciesId': 1, 'public': 2}, {'DisplayName': 'CFW Outbred GWAS', 'FullName': 'CFW Outbred GWAS', 'GeneticType': 'intercross', 'Id': 59, 'MappingMethodId': '2', 'Name': 'CFW', 'SpeciesId': 1, 'public': 2}, {'DisplayName': 'Poplar', 'FullName': 'Poplar', 'GeneticType': 'None', 'Id': 60, 'MappingMethodId': 'None', 'Name': 'Poplar', 'SpeciesId': 10, 'public': 2}, {'DisplayName': 'Pancreatic: Islets (UTHSC/Gerling)', 'FullName': 'Pancreatic: Islets (UTHSC/Gerling)', 'GeneticType': 'None', 'Id': 61, 'MappingMethodId': 'None', 'Name': 'Islets-Gerling', 'SpeciesId': 4, 'public': 2}, {'DisplayName': 'Ethanol-Medicated Stress Reduction', 'FullName': 'Ethanol-Medicated Stress Reduction', 'GeneticType': 'riset', 'Id': 62, 'MappingMethodId': 'None', 'Name': 'EMSR', 'SpeciesId': 1, 'public': 2}, {'DisplayName': 'Chronic Intermittent Ethanol Phase 2', 'FullName': 'Chronic Intermittent Ethanol Phase 2', 'GeneticType': 'None', 'Id': 63, 'MappingMethodId': 'None', 'Name': 'CIE-RMA', 'SpeciesId': 1, 'public': 2}, {'DisplayName': 'BXD NIA Longevity Study', 'FullName': 'BXD NIA Longevity Study', 'GeneticType': 'intercross', 'Id': 64, 'MappingMethodId': '1', 'Name': 'BXD-Longevity', 'SpeciesId': 1, 'public': 2}, {'DisplayName': 'LGSM AI Palmer', 'FullName': 'LGSM AI Palmer', 'GeneticType': 'intercross', 'Id': 65, 'MappingMethodId': '2', 'Name': 'LGSM-AI', 'SpeciesId': 1, 'public': 2}, {'DisplayName': 'D2 Glaucoma Model', 'FullName': 'D2 Glaucoma Model', 'GeneticType': 'intercross', 'Id': 66, 'MappingMethodId': '2', 'Name': 'D2GM', 'SpeciesId': 1, 'public': 2}, {'DisplayName': 'Retina RGC Rheaume', 'FullName': 'Retina RGC Rheaume', 'GeneticType': 'None', 'Id': 67, 'MappingMethodId': 'None', 'Name': 'Retina-RGC-Rheaume', 'SpeciesId': 1, 'public': 2}, {'DisplayName': 'BXD_Dev', 'FullName': 'BXD Development', 'GeneticType': 'riset', 'Id': 68, 'MappingMethodId': '1', 'Name': 'BXD_Dev', 'SpeciesId': 1, 'public': 0}, {'DisplayName': 'LGSM AI G34 Palmer (Array)', 'FullName': 'LGSM AI G34 Palmer (Array)', 'GeneticType': 'intercross', 'Id': 69, 'MappingMethodId': '2', 'Name': 'LGSM-AI-G34-A', 'SpeciesId': 1, 'public': 2}, {'DisplayName': 'LGSM AI G34 Palmer (GBS)', 'FullName': 'LGSM AI G34 Palmer (GBS)', 'GeneticType': 'intercross', 'Id': 70, 'MappingMethodId': '2', 'Name': 'LGSM-AI-G34-GBS', 'SpeciesId': 1, 'public': 2}, {'DisplayName': 'LGSM AI G34 G39-43 Palmer (GBS)', 'FullName': 'LGSM AI G34 G39-43 Palmer (GBS)', 'GeneticType': 'intercross', 'Id': 71, 'MappingMethodId': '2', 'Name': 'LGSM-AI-G34_39-43-GBS', 'SpeciesId': 1, 'public': 2}, {'DisplayName': 'LGSM AI G39-43 Palmer (GBS)', 'FullName': 'LGSM AI G39-43 Palmer (GBS)', 'GeneticType': 'intercross', 'Id': 72, 'MappingMethodId': '2', 'Name': 'LGSM-AI-G39-43-GBS', 'SpeciesId': 1, 'public': 2}, {'DisplayName': 'LGSM AI G34/50-56 Lionikas (GBS)', 'FullName': 'LGSM AI G34/50-56 Lionikas (GBS)', 'GeneticType': 'intercross', 'Id': 74, 'MappingMethodId': '2', 'Name': 'LGSM-AIG34_50-56-GBS', 'SpeciesId': 1, 'public': 2}, {'DisplayName': 'D2 Glaucoma Monocyte JAX', 'FullName': 'D2 Glaucoma Monocyte JAX', 'GeneticType': 'intercross', 'Id': 75, 'MappingMethodId': '2', 'Name': 'JAX-D2-Mono-RNA-Seq', 'SpeciesId': 1, 'public': 2}, {'DisplayName': 'BXD DOD Gulf War Illness', 'FullName': 'BXD DOD Gulf War Illness', 'GeneticType': 'intercross', 'Id': 76, 'MappingMethodId': '1', 'Name': 'DOD-BXD-GWI', 'SpeciesId': 1, 'public': 2}, {'DisplayName': 'Aging Mouse Lifespan Studies (NIA UM-HET3)', 'FullName': 'Aging Mouse Lifespan Studies (NIA UM-HET3)', 'GeneticType': 'intercross', 'Id': 77, 'MappingMethodId': '3', 'Name': 'HET3-ITP', 'SpeciesId': 1, 'public': 2}, {'DisplayName': 'CC', 'FullName': 'CC Family', 'GeneticType': 'intercross', 'Id': 78, 'MappingMethodId': '2', 'Name': 'CC', 'SpeciesId': 1, 'public': 2}, {'DisplayName': 'GTEx v8 All Tissues, RNA-Seq without Genotypes', 'FullName': 'GTEx v8 All Tissues, RNA-Seq without Genotypes', 'GeneticType': 'None', 'Id': 79, 'MappingMethodId': '2', 'Name': 'GTEx_v8', 'SpeciesId': 4, 'public': 2}, {'DisplayName': 'BXD UTHSC Cannabinoid Pilot', 'FullName': 'BXD UTHSC Cannabinoid Pilot', 'GeneticType': 'intercross', 'Id': 80, 'MappingMethodId': '1', 'Name': 'UTHSC-Cannabinoid', 'SpeciesId': 1, 'public': 2}, {'DisplayName': 'B6 Lens', 'FullName': 'B6 Lens', 'GeneticType': 'intercross', 'Id': 81, 'MappingMethodId': '1', 'Name': 'B6-Lens', 'SpeciesId': 1, 'public': 2}, {'DisplayName': 'NWU WKYxF344 F2 Behavior', 'FullName': 'NWU WKYxF344 F2 Behavior', 'GeneticType': 'intercross', 'Id': 82, 'MappingMethodId': '3', 'Name': 'NWU_WKYxF344_F2', 'SpeciesId': 2, 'public': 2}, {'DisplayName': 'HIV-1Tg and Control', 'FullName': 'HIV-1Tg and Control', 'GeneticType': 'None', 'Id': 83, 'MappingMethodId': '1', 'Name': 'HIV-1Tg', 'SpeciesId': 2, 'public': 2}, {'DisplayName': 'BXD Heart Metals', 'FullName': 'BXD Heart Metals', 'GeneticType': 'intercross', 'Id': 84, 'MappingMethodId': '2', 'Name': 'BXD-Heart-Metals', 'SpeciesId': 1, 'public': 2}, {'DisplayName': 'DO', 'FullName': 'DO Gatti Blood n=742 (2014, no mapping)', 'GeneticType': 'intercross', 'Id': 85, 'MappingMethodId': '2', 'Name': 'DO', 'SpeciesId': 1, 'public': 2}, {'DisplayName': 'BXD Adult and Aged Eye', 'FullName': 'BXD Adult and Aged Eye', 'GeneticType': 'riset', 'Id': 86, 'MappingMethodId': '1', 'Name': 'BXD-AE', 'SpeciesId': 1, 'public': 2}, {'DisplayName': 'HRDP-HXB/BXH Brain Proteome', 'FullName': 'HRDP-HXB/BXH Brain Proteome', 'GeneticType': 'None', 'Id': 87, 'MappingMethodId': '1', 'Name': 'HRDP_HXB-BXH-BP', 'SpeciesId': 2, 'public': 2}, {'DisplayName': 'EBV, T cells Type 1 Diabetes: Gene Expression (Perkins, Morahan)', 'FullName': 'EBV, T cells Type 1 Diabetes: Gene Expression (Perkins, Morahan)', 'GeneticType': 'None', 'Id': 88, 'MappingMethodId': '2', 'Name': 'EBV_T_Cells_PERKINS', 'SpeciesId': 4, 'public': 2}, {'DisplayName': 'Medaka Inbred Kiyosu-Karlsruhe (MIKK) Panel', 'FullName': 'Medaka Inbred Kiyosu-Karlsruhe (MIKK) Panel', 'GeneticType': 'None', 'Id': 89, 'MappingMethodId': '1', 'Name': 'MIKK', 'SpeciesId': 11, 'public': 2}, {'DisplayName': 'DOL', 'FullName': 'DO Boon Lung Infection n=194 (Apr22)', 'GeneticType': 'intercross', 'Id': 90, 'MappingMethodId': '1', 'Name': 'DOL', 'SpeciesId': 1, 'public': 2}, {'DisplayName': 'BXD Micturition Study', 'FullName': 'BXD Micturition Study', 'GeneticType': 'intercross', 'Id': 91, 'MappingMethodId': '1', 'Name': 'BXD-Micturition', 'SpeciesId': 1, 'public': 2}, {'DisplayName': 'BXD JAX AD Study', 'FullName': 'BXD JAX AD Study', 'GeneticType': 'intercross', 'Id': 92, 'MappingMethodId': '1', 'Name': 'BXD-JAX-AD', 'SpeciesId': 1, 'public': 2}, {'DisplayName': \"BXD NIA Alzheimer's Studies\", 'FullName': \"BXD NIA Alzheimer's Studies\", 'GeneticType': 'intercross', 'Id': 93, 'MappingMethodId': '1', 'Name': 'BXD-NIA-AD', 'SpeciesId': 1, 'public': 2}, {'DisplayName': 'CC BXD Tabbaa Brain n=1041 (Jan23)', 'FullName': 'CC BXD Tabbaa Brain n=1041 (Jan23)', 'GeneticType': 'intercross', 'Id': 94, 'MappingMethodId': '1', 'Name': 'CCBXD-TM', 'SpeciesId': 1, 'public': 2}, {'DisplayName': 'HUB Winter Gsor families (2014-2022)', 'FullName': 'HUB Winter Gsor families (2014-2022)', 'GeneticType': 'None', 'Id': 95, 'MappingMethodId': '1', 'Name': 'GSO', 'SpeciesId': 12, 'public': 2}]\n",
      "\n",
      "200\n"
     ]
    }
   ],
   "source": [
    "## Fetch the groups in the dataset (for all the species)\n",
    "api_url = \"https://genenetwork.org/api/v_pre1/groups\"\n",
    "response = requests.get(api_url) \n",
    "print(response.json())\n",
    "print()\n",
    "print(response.status_code)"
   ]
  },
  {
   "cell_type": "code",
   "execution_count": 10,
   "id": "8d1c21d1-751e-48d5-bdb8-418a9fa62a7f",
   "metadata": {},
   "outputs": [
    {
     "name": "stdout",
     "output_type": "stream",
     "text": [
      "[{'DisplayName': 'BXD', 'FullName': 'BXD Family', 'GeneticType': 'riset', 'Id': 1, 'MappingMethodId': '1', 'Name': 'BXD', 'SpeciesId': 1, 'public': 2}, {'DisplayName': 'B6D2F2 OHSU Brain', 'FullName': 'B6D2F2 OHSU Brain', 'GeneticType': 'intercross', 'Id': 2, 'MappingMethodId': '1', 'Name': 'B6D2F2', 'SpeciesId': 1, 'public': 2}, {'DisplayName': 'AXB/BXA', 'FullName': 'AXB/BXA Family', 'GeneticType': 'None', 'Id': 4, 'MappingMethodId': '1', 'Name': 'AXBXA', 'SpeciesId': 1, 'public': 2}, {'DisplayName': 'AKXD', 'FullName': 'AKXD Family', 'GeneticType': 'None', 'Id': 5, 'MappingMethodId': '1', 'Name': 'AKXD', 'SpeciesId': 1, 'public': 2}, {'DisplayName': 'B6BTBRF2', 'FullName': 'B6BTBRF2', 'GeneticType': 'intercross', 'Id': 6, 'MappingMethodId': '1', 'Name': 'B6BTBRF2', 'SpeciesId': 1, 'public': 2}, {'DisplayName': 'BXH', 'FullName': 'BXH Family', 'GeneticType': 'None', 'Id': 7, 'MappingMethodId': '1', 'Name': 'BXH', 'SpeciesId': 1, 'public': 2}, {'DisplayName': 'CXB', 'FullName': 'CXB Family', 'GeneticType': 'None', 'Id': 8, 'MappingMethodId': '1', 'Name': 'CXB', 'SpeciesId': 1, 'public': 2}, {'DisplayName': 'LXS', 'FullName': 'ILSXISS (LXS) Family', 'GeneticType': 'None', 'Id': 9, 'MappingMethodId': '1', 'Name': 'LXS', 'SpeciesId': 1, 'public': 2}, {'DisplayName': 'B6D2F2 OHSU Striatum', 'FullName': 'B6D2F2 OHSU Striatum', 'GeneticType': 'intercross', 'Id': 12, 'MappingMethodId': '1', 'Name': 'BDF2-2005', 'SpeciesId': 1, 'public': 2}, {'DisplayName': 'Mouse Diversity Panel', 'FullName': 'Mouse Diversity Panel', 'GeneticType': 'None', 'Id': 15, 'MappingMethodId': '1', 'Name': 'MDP', 'SpeciesId': 1, 'public': 2}, {'DisplayName': 'B6D2F2 PSU Muscle', 'FullName': 'B6D2F2 PSU Muscle', 'GeneticType': 'intercross', 'Id': 17, 'MappingMethodId': '1', 'Name': 'B6D2F2-PSU', 'SpeciesId': 1, 'public': 2}, {'DisplayName': 'B6C3HF2(APOE-) UCLA Metabolism', 'FullName': 'B6C3HF2(APOE-) UCLA Metabolism', 'GeneticType': 'intercross', 'Id': 18, 'MappingMethodId': '1', 'Name': 'BHF2', 'SpeciesId': 1, 'public': 0}, {'DisplayName': 'B6D2F2 UCLA Liver', 'FullName': 'B6D2F2 UCLA Liver', 'GeneticType': 'intercross', 'Id': 19, 'MappingMethodId': '1', 'Name': 'BDF2-1999', 'SpeciesId': 1, 'public': 2}, {'DisplayName': 'CastB6/B6Cast F2 UCLA', 'FullName': 'CastB6/B6Cast F2 UCLA', 'GeneticType': 'intercross', 'Id': 20, 'MappingMethodId': '1', 'Name': 'CTB6F2', 'SpeciesId': 1, 'public': 2}, {'DisplayName': 'B6C3HF2 UCLA Metabolism', 'FullName': 'B6C3HF2 UCLA Metabolism', 'GeneticType': 'intercross', 'Id': 21, 'MappingMethodId': '1', 'Name': 'BHHBF2', 'SpeciesId': 1, 'public': 0}, {'DisplayName': 'NZB/FVB N2 NCI', 'FullName': 'NZB/FVB N2 NCI', 'GeneticType': 'None', 'Id': 23, 'MappingMethodId': '1', 'Name': 'NZBXFVB-N2', 'SpeciesId': 1, 'public': 2}, {'DisplayName': 'Heterogeneous Stock', 'FullName': 'Heterogeneous Stock', 'GeneticType': 'None', 'Id': 31, 'MappingMethodId': 'None', 'Name': 'HS', 'SpeciesId': 1, 'public': 2}, {'DisplayName': 'Heterogeneous Stock Collaborative Cross', 'FullName': 'DO Hitzemann Striatum mRNA n=90 (Feb11, no mapping)', 'GeneticType': 'None', 'Id': 33, 'MappingMethodId': 'None', 'Name': 'HS-CC', 'SpeciesId': 1, 'public': 2}, {'DisplayName': 'BXD Aged Hippocampus', 'FullName': 'BXD Aged Hippocampus', 'GeneticType': 'intercross', 'Id': 40, 'MappingMethodId': '1', 'Name': 'B6D2RI', 'SpeciesId': 1, 'public': 2}, {'DisplayName': 'SOTNOT-OHSU', 'FullName': 'SOTNOT-OHSU', 'GeneticType': 'riset', 'Id': 41, 'MappingMethodId': '1', 'Name': 'SOTNOT-OHSU', 'SpeciesId': 1, 'public': 2}, {'DisplayName': 'Reduced Complexity Cross (B6JxB6N F2)', 'FullName': 'Reduced Complexity Cross (B6JxB6N F2)', 'GeneticType': 'intercross', 'Id': 43, 'MappingMethodId': '1', 'Name': 'C57BL-6JxC57BL-6NJF2', 'SpeciesId': 1, 'public': 2}, {'DisplayName': 'Scripps C57BL/6J', 'FullName': 'Scripps C57BL/6J', 'GeneticType': 'intercross', 'Id': 44, 'MappingMethodId': '1', 'Name': 'Scripps-2013', 'SpeciesId': 1, 'public': 2}, {'DisplayName': 'B6D2 EtOH Selected Advanced Intercross', 'FullName': 'B6D2 EtOH Selected Advanced Intercross', 'GeneticType': 'intercross', 'Id': 47, 'MappingMethodId': '1', 'Name': 'Linsenbardt-Boehm', 'SpeciesId': 1, 'public': 2}, {'DisplayName': 'Chronic Mild Stress', 'FullName': 'Chronic Mild Stress', 'GeneticType': 'riset', 'Id': 53, 'MappingMethodId': 'None', 'Name': 'CMS', 'SpeciesId': 1, 'public': 2}, {'DisplayName': 'Chronic Intermittent Ethanol Phase 1', 'FullName': 'Chronic Intermittent Ethanol Phase 1', 'GeneticType': 'riset', 'Id': 54, 'MappingMethodId': 'None', 'Name': 'CIE-INIA', 'SpeciesId': 1, 'public': 2}, {'DisplayName': 'Glaucoma and Aged Retina UTHSC', 'FullName': 'Glaucoma and Aged Retina UTHSC', 'GeneticType': 'None', 'Id': 57, 'MappingMethodId': 'None', 'Name': 'B6D2', 'SpeciesId': 1, 'public': 2}, {'DisplayName': 'BXD Bone Individual Data', 'FullName': 'BXD Bone Individual Data', 'GeneticType': 'intercross', 'Id': 58, 'MappingMethodId': '1', 'Name': 'BXD-Bone', 'SpeciesId': 1, 'public': 2}, {'DisplayName': 'CFW Outbred GWAS', 'FullName': 'CFW Outbred GWAS', 'GeneticType': 'intercross', 'Id': 59, 'MappingMethodId': '2', 'Name': 'CFW', 'SpeciesId': 1, 'public': 2}, {'DisplayName': 'Ethanol-Medicated Stress Reduction', 'FullName': 'Ethanol-Medicated Stress Reduction', 'GeneticType': 'riset', 'Id': 62, 'MappingMethodId': 'None', 'Name': 'EMSR', 'SpeciesId': 1, 'public': 2}, {'DisplayName': 'Chronic Intermittent Ethanol Phase 2', 'FullName': 'Chronic Intermittent Ethanol Phase 2', 'GeneticType': 'None', 'Id': 63, 'MappingMethodId': 'None', 'Name': 'CIE-RMA', 'SpeciesId': 1, 'public': 2}, {'DisplayName': 'BXD NIA Longevity Study', 'FullName': 'BXD NIA Longevity Study', 'GeneticType': 'intercross', 'Id': 64, 'MappingMethodId': '1', 'Name': 'BXD-Longevity', 'SpeciesId': 1, 'public': 2}, {'DisplayName': 'LGSM AI Palmer', 'FullName': 'LGSM AI Palmer', 'GeneticType': 'intercross', 'Id': 65, 'MappingMethodId': '2', 'Name': 'LGSM-AI', 'SpeciesId': 1, 'public': 2}, {'DisplayName': 'D2 Glaucoma Model', 'FullName': 'D2 Glaucoma Model', 'GeneticType': 'intercross', 'Id': 66, 'MappingMethodId': '2', 'Name': 'D2GM', 'SpeciesId': 1, 'public': 2}, {'DisplayName': 'Retina RGC Rheaume', 'FullName': 'Retina RGC Rheaume', 'GeneticType': 'None', 'Id': 67, 'MappingMethodId': 'None', 'Name': 'Retina-RGC-Rheaume', 'SpeciesId': 1, 'public': 2}, {'DisplayName': 'BXD_Dev', 'FullName': 'BXD Development', 'GeneticType': 'riset', 'Id': 68, 'MappingMethodId': '1', 'Name': 'BXD_Dev', 'SpeciesId': 1, 'public': 0}, {'DisplayName': 'LGSM AI G34 Palmer (Array)', 'FullName': 'LGSM AI G34 Palmer (Array)', 'GeneticType': 'intercross', 'Id': 69, 'MappingMethodId': '2', 'Name': 'LGSM-AI-G34-A', 'SpeciesId': 1, 'public': 2}, {'DisplayName': 'LGSM AI G34 Palmer (GBS)', 'FullName': 'LGSM AI G34 Palmer (GBS)', 'GeneticType': 'intercross', 'Id': 70, 'MappingMethodId': '2', 'Name': 'LGSM-AI-G34-GBS', 'SpeciesId': 1, 'public': 2}, {'DisplayName': 'LGSM AI G34 G39-43 Palmer (GBS)', 'FullName': 'LGSM AI G34 G39-43 Palmer (GBS)', 'GeneticType': 'intercross', 'Id': 71, 'MappingMethodId': '2', 'Name': 'LGSM-AI-G34_39-43-GBS', 'SpeciesId': 1, 'public': 2}, {'DisplayName': 'LGSM AI G39-43 Palmer (GBS)', 'FullName': 'LGSM AI G39-43 Palmer (GBS)', 'GeneticType': 'intercross', 'Id': 72, 'MappingMethodId': '2', 'Name': 'LGSM-AI-G39-43-GBS', 'SpeciesId': 1, 'public': 2}, {'DisplayName': 'LGSM AI G34/50-56 Lionikas (GBS)', 'FullName': 'LGSM AI G34/50-56 Lionikas (GBS)', 'GeneticType': 'intercross', 'Id': 74, 'MappingMethodId': '2', 'Name': 'LGSM-AIG34_50-56-GBS', 'SpeciesId': 1, 'public': 2}, {'DisplayName': 'D2 Glaucoma Monocyte JAX', 'FullName': 'D2 Glaucoma Monocyte JAX', 'GeneticType': 'intercross', 'Id': 75, 'MappingMethodId': '2', 'Name': 'JAX-D2-Mono-RNA-Seq', 'SpeciesId': 1, 'public': 2}, {'DisplayName': 'BXD DOD Gulf War Illness', 'FullName': 'BXD DOD Gulf War Illness', 'GeneticType': 'intercross', 'Id': 76, 'MappingMethodId': '1', 'Name': 'DOD-BXD-GWI', 'SpeciesId': 1, 'public': 2}, {'DisplayName': 'Aging Mouse Lifespan Studies (NIA UM-HET3)', 'FullName': 'Aging Mouse Lifespan Studies (NIA UM-HET3)', 'GeneticType': 'intercross', 'Id': 77, 'MappingMethodId': '3', 'Name': 'HET3-ITP', 'SpeciesId': 1, 'public': 2}, {'DisplayName': 'CC', 'FullName': 'CC Family', 'GeneticType': 'intercross', 'Id': 78, 'MappingMethodId': '2', 'Name': 'CC', 'SpeciesId': 1, 'public': 2}, {'DisplayName': 'BXD UTHSC Cannabinoid Pilot', 'FullName': 'BXD UTHSC Cannabinoid Pilot', 'GeneticType': 'intercross', 'Id': 80, 'MappingMethodId': '1', 'Name': 'UTHSC-Cannabinoid', 'SpeciesId': 1, 'public': 2}, {'DisplayName': 'B6 Lens', 'FullName': 'B6 Lens', 'GeneticType': 'intercross', 'Id': 81, 'MappingMethodId': '1', 'Name': 'B6-Lens', 'SpeciesId': 1, 'public': 2}, {'DisplayName': 'BXD Heart Metals', 'FullName': 'BXD Heart Metals', 'GeneticType': 'intercross', 'Id': 84, 'MappingMethodId': '2', 'Name': 'BXD-Heart-Metals', 'SpeciesId': 1, 'public': 2}, {'DisplayName': 'DO', 'FullName': 'DO Gatti Blood n=742 (2014, no mapping)', 'GeneticType': 'intercross', 'Id': 85, 'MappingMethodId': '2', 'Name': 'DO', 'SpeciesId': 1, 'public': 2}, {'DisplayName': 'BXD Adult and Aged Eye', 'FullName': 'BXD Adult and Aged Eye', 'GeneticType': 'riset', 'Id': 86, 'MappingMethodId': '1', 'Name': 'BXD-AE', 'SpeciesId': 1, 'public': 2}, {'DisplayName': 'DOL', 'FullName': 'DO Boon Lung Infection n=194 (Apr22)', 'GeneticType': 'intercross', 'Id': 90, 'MappingMethodId': '1', 'Name': 'DOL', 'SpeciesId': 1, 'public': 2}, {'DisplayName': 'BXD Micturition Study', 'FullName': 'BXD Micturition Study', 'GeneticType': 'intercross', 'Id': 91, 'MappingMethodId': '1', 'Name': 'BXD-Micturition', 'SpeciesId': 1, 'public': 2}, {'DisplayName': 'BXD JAX AD Study', 'FullName': 'BXD JAX AD Study', 'GeneticType': 'intercross', 'Id': 92, 'MappingMethodId': '1', 'Name': 'BXD-JAX-AD', 'SpeciesId': 1, 'public': 2}, {'DisplayName': \"BXD NIA Alzheimer's Studies\", 'FullName': \"BXD NIA Alzheimer's Studies\", 'GeneticType': 'intercross', 'Id': 93, 'MappingMethodId': '1', 'Name': 'BXD-NIA-AD', 'SpeciesId': 1, 'public': 2}, {'DisplayName': 'CC BXD Tabbaa Brain n=1041 (Jan23)', 'FullName': 'CC BXD Tabbaa Brain n=1041 (Jan23)', 'GeneticType': 'intercross', 'Id': 94, 'MappingMethodId': '1', 'Name': 'CCBXD-TM', 'SpeciesId': 1, 'public': 2}]\n",
      "\n",
      "200\n"
     ]
    }
   ],
   "source": [
    "## OR (only for the mice)\n",
    "api_url = \"https://genenetwork.org/api/v_pre1/groups/mouse\"\n",
    "response = requests.get(api_url) \n",
    "print(response.json())\n",
    "print()\n",
    "print(response.status_code)"
   ]
  },
  {
   "cell_type": "code",
   "execution_count": 1,
   "id": "ee902bcc-ddca-468c-93b8-a82bacc741c2",
   "metadata": {},
   "outputs": [
    {
     "ename": "JSONDecodeError",
     "evalue": "Expecting value: line 1 column 1 (char 0)",
     "output_type": "error",
     "traceback": [
      "\u001b[0;31m---------------------------------------------------------------------------\u001b[0m",
      "\u001b[0;31mJSONDecodeError\u001b[0m                           Traceback (most recent call last)",
      "\u001b[1;32m/home/fetche/Desktop/Software_dev/Pjotr_software_team/GeneNetwork_23FL/API/GN_API_Python.ipynb Cell 10\u001b[0m line \u001b[0;36m5\n\u001b[1;32m      <a href='vscode-notebook-cell:/home/fetche/Desktop/Software_dev/Pjotr_software_team/GeneNetwork_23FL/API/GN_API_Python.ipynb#X12sZmlsZQ%3D%3D?line=2'>3</a>\u001b[0m api_url \u001b[39m=\u001b[39m \u001b[39m\"\u001b[39m\u001b[39mhttps://genenetwork.org/api/v_pre1/genotypes/bimbam/BXD\u001b[39m\u001b[39m\"\u001b[39m\n\u001b[1;32m      <a href='vscode-notebook-cell:/home/fetche/Desktop/Software_dev/Pjotr_software_team/GeneNetwork_23FL/API/GN_API_Python.ipynb#X12sZmlsZQ%3D%3D?line=3'>4</a>\u001b[0m response \u001b[39m=\u001b[39m requests\u001b[39m.\u001b[39mget(api_url) \n\u001b[0;32m----> <a href='vscode-notebook-cell:/home/fetche/Desktop/Software_dev/Pjotr_software_team/GeneNetwork_23FL/API/GN_API_Python.ipynb#X12sZmlsZQ%3D%3D?line=4'>5</a>\u001b[0m \u001b[39mprint\u001b[39m(response\u001b[39m.\u001b[39;49mjson())\n\u001b[1;32m      <a href='vscode-notebook-cell:/home/fetche/Desktop/Software_dev/Pjotr_software_team/GeneNetwork_23FL/API/GN_API_Python.ipynb#X12sZmlsZQ%3D%3D?line=5'>6</a>\u001b[0m \u001b[39mprint\u001b[39m()\n\u001b[1;32m      <a href='vscode-notebook-cell:/home/fetche/Desktop/Software_dev/Pjotr_software_team/GeneNetwork_23FL/API/GN_API_Python.ipynb#X12sZmlsZQ%3D%3D?line=6'>7</a>\u001b[0m \u001b[39mprint\u001b[39m(response\u001b[39m.\u001b[39mstatus_code)\n",
      "File \u001b[0;32m/usr/lib/python3/dist-packages/requests/models.py:900\u001b[0m, in \u001b[0;36mResponse.json\u001b[0;34m(self, **kwargs)\u001b[0m\n\u001b[1;32m    894\u001b[0m         \u001b[39mexcept\u001b[39;00m \u001b[39mUnicodeDecodeError\u001b[39;00m:\n\u001b[1;32m    895\u001b[0m             \u001b[39m# Wrong UTF codec detected; usually because it's not UTF-8\u001b[39;00m\n\u001b[1;32m    896\u001b[0m             \u001b[39m# but some other 8-bit codec.  This is an RFC violation,\u001b[39;00m\n\u001b[1;32m    897\u001b[0m             \u001b[39m# and the server didn't bother to tell us what codec *was*\u001b[39;00m\n\u001b[1;32m    898\u001b[0m             \u001b[39m# used.\u001b[39;00m\n\u001b[1;32m    899\u001b[0m             \u001b[39mpass\u001b[39;00m\n\u001b[0;32m--> 900\u001b[0m \u001b[39mreturn\u001b[39;00m complexjson\u001b[39m.\u001b[39;49mloads(\u001b[39mself\u001b[39;49m\u001b[39m.\u001b[39;49mtext, \u001b[39m*\u001b[39;49m\u001b[39m*\u001b[39;49mkwargs)\n",
      "File \u001b[0;32m/usr/lib/python3.10/json/__init__.py:346\u001b[0m, in \u001b[0;36mloads\u001b[0;34m(s, cls, object_hook, parse_float, parse_int, parse_constant, object_pairs_hook, **kw)\u001b[0m\n\u001b[1;32m    341\u001b[0m     s \u001b[39m=\u001b[39m s\u001b[39m.\u001b[39mdecode(detect_encoding(s), \u001b[39m'\u001b[39m\u001b[39msurrogatepass\u001b[39m\u001b[39m'\u001b[39m)\n\u001b[1;32m    343\u001b[0m \u001b[39mif\u001b[39;00m (\u001b[39mcls\u001b[39m \u001b[39mis\u001b[39;00m \u001b[39mNone\u001b[39;00m \u001b[39mand\u001b[39;00m object_hook \u001b[39mis\u001b[39;00m \u001b[39mNone\u001b[39;00m \u001b[39mand\u001b[39;00m\n\u001b[1;32m    344\u001b[0m         parse_int \u001b[39mis\u001b[39;00m \u001b[39mNone\u001b[39;00m \u001b[39mand\u001b[39;00m parse_float \u001b[39mis\u001b[39;00m \u001b[39mNone\u001b[39;00m \u001b[39mand\u001b[39;00m\n\u001b[1;32m    345\u001b[0m         parse_constant \u001b[39mis\u001b[39;00m \u001b[39mNone\u001b[39;00m \u001b[39mand\u001b[39;00m object_pairs_hook \u001b[39mis\u001b[39;00m \u001b[39mNone\u001b[39;00m \u001b[39mand\u001b[39;00m \u001b[39mnot\u001b[39;00m kw):\n\u001b[0;32m--> 346\u001b[0m     \u001b[39mreturn\u001b[39;00m _default_decoder\u001b[39m.\u001b[39;49mdecode(s)\n\u001b[1;32m    347\u001b[0m \u001b[39mif\u001b[39;00m \u001b[39mcls\u001b[39m \u001b[39mis\u001b[39;00m \u001b[39mNone\u001b[39;00m:\n\u001b[1;32m    348\u001b[0m     \u001b[39mcls\u001b[39m \u001b[39m=\u001b[39m JSONDecoder\n",
      "File \u001b[0;32m/usr/lib/python3.10/json/decoder.py:337\u001b[0m, in \u001b[0;36mJSONDecoder.decode\u001b[0;34m(self, s, _w)\u001b[0m\n\u001b[1;32m    332\u001b[0m \u001b[39mdef\u001b[39;00m \u001b[39mdecode\u001b[39m(\u001b[39mself\u001b[39m, s, _w\u001b[39m=\u001b[39mWHITESPACE\u001b[39m.\u001b[39mmatch):\n\u001b[1;32m    333\u001b[0m \u001b[39m    \u001b[39m\u001b[39m\"\"\"Return the Python representation of ``s`` (a ``str`` instance\u001b[39;00m\n\u001b[1;32m    334\u001b[0m \u001b[39m    containing a JSON document).\u001b[39;00m\n\u001b[1;32m    335\u001b[0m \n\u001b[1;32m    336\u001b[0m \u001b[39m    \"\"\"\u001b[39;00m\n\u001b[0;32m--> 337\u001b[0m     obj, end \u001b[39m=\u001b[39m \u001b[39mself\u001b[39;49m\u001b[39m.\u001b[39;49mraw_decode(s, idx\u001b[39m=\u001b[39;49m_w(s, \u001b[39m0\u001b[39;49m)\u001b[39m.\u001b[39;49mend())\n\u001b[1;32m    338\u001b[0m     end \u001b[39m=\u001b[39m _w(s, end)\u001b[39m.\u001b[39mend()\n\u001b[1;32m    339\u001b[0m     \u001b[39mif\u001b[39;00m end \u001b[39m!=\u001b[39m \u001b[39mlen\u001b[39m(s):\n",
      "File \u001b[0;32m/usr/lib/python3.10/json/decoder.py:355\u001b[0m, in \u001b[0;36mJSONDecoder.raw_decode\u001b[0;34m(self, s, idx)\u001b[0m\n\u001b[1;32m    353\u001b[0m     obj, end \u001b[39m=\u001b[39m \u001b[39mself\u001b[39m\u001b[39m.\u001b[39mscan_once(s, idx)\n\u001b[1;32m    354\u001b[0m \u001b[39mexcept\u001b[39;00m \u001b[39mStopIteration\u001b[39;00m \u001b[39mas\u001b[39;00m err:\n\u001b[0;32m--> 355\u001b[0m     \u001b[39mraise\u001b[39;00m JSONDecodeError(\u001b[39m\"\u001b[39m\u001b[39mExpecting value\u001b[39m\u001b[39m\"\u001b[39m, s, err\u001b[39m.\u001b[39mvalue) \u001b[39mfrom\u001b[39;00m \u001b[39mNone\u001b[39;00m\n\u001b[1;32m    356\u001b[0m \u001b[39mreturn\u001b[39;00m obj, end\n",
      "\u001b[0;31mJSONDecodeError\u001b[0m: Expecting value: line 1 column 1 (char 0)"
     ]
    }
   ],
   "source": [
    "import requests\n",
    "## Fetch genotypes for groups/RIsets (BXD)\n",
    "api_url = \"https://genenetwork.org/api/v_pre1/genotypes/bimbam/BXD\"\n",
    "response = requests.get(api_url) \n",
    "print(response.json())\n",
    "print()\n",
    "print(response.status_code)"
   ]
  },
  {
   "cell_type": "code",
   "execution_count": null,
   "id": "f60feaef-7ce5-4b31-a38b-25cff0141bee",
   "metadata": {},
   "outputs": [],
   "source": []
  }
 ],
 "metadata": {
  "kernelspec": {
   "display_name": "Python 3 (ipykernel)",
   "language": "python",
   "name": "python3"
  },
  "language_info": {
   "codemirror_mode": {
    "name": "ipython",
    "version": 3
   },
   "file_extension": ".py",
   "mimetype": "text/x-python",
   "name": "python",
   "nbconvert_exporter": "python",
   "pygments_lexer": "ipython3",
   "version": "3.10.12"
  }
 },
 "nbformat": 4,
 "nbformat_minor": 5
}
