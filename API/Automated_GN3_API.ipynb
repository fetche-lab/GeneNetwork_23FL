{
 "cells": [
  {
   "cell_type": "markdown",
   "metadata": {},
   "source": [
    "### CREATING AN AUTOMATED VERSION OF THE GN_REST_API FOR GET REQUEST FROM THE GENENETWORK WEBSERVICE "
   ]
  },
  {
   "cell_type": "code",
   "execution_count": 10,
   "metadata": {},
   "outputs": [],
   "source": [
    "## experimenting with the code \n",
    "def gn_get_request_api():\n",
    "\n",
    "    ## import requests \n",
    "    import requests \n",
    "\n",
    "    api_url = input('Enter a list of comma separated api urls: ')\n",
    "    api_url = api_url.split(\",\")\n",
    "    for urls in api_url:\n",
    "        response = requests.get(urls) # the get request method accesses the resources in the webservice \n",
    "\n",
    "        if response.status_code == 200:\n",
    "            try:\n",
    "                data = response.json()\n",
    "                print()\n",
    "                print(f'Content: {data}')\n",
    "                print()\n",
    "                print(f'Content type: {response.headers[\"Content-Type\"]}, \\nStatus code is: {response.status_code}')\n",
    "            except ValueError:\n",
    "                print()\n",
    "                print(\"Response content is not valid JSON\")\n",
    "                print()\n",
    "                print(f'Content type: {response.headers[\"Content-Type\"]}, \\nStatus code is: {response.status_code}')\n",
    "        else:\n",
    "            print()\n",
    "            print(\"Request failed with status code:\", response.status_code)\n",
    "            print()\n",
    "    return"
   ]
  },
  {
   "cell_type": "code",
   "execution_count": 11,
   "metadata": {},
   "outputs": [
    {
     "name": "stdout",
     "output_type": "stream",
     "text": [
      "\n",
      "Content: [{'FullName': 'Mus musculus', 'Id': 1, 'Name': 'mouse', 'TaxonomyId': 10090}, {'FullName': 'Rattus norvegicus', 'Id': 2, 'Name': 'rat', 'TaxonomyId': 10116}, {'FullName': 'Arabidopsis thaliana', 'Id': 3, 'Name': 'arabidopsis', 'TaxonomyId': 3702}, {'FullName': 'Homo sapiens', 'Id': 4, 'Name': 'human', 'TaxonomyId': 9606}, {'FullName': 'Hordeum vulgare', 'Id': 5, 'Name': 'barley', 'TaxonomyId': 4513}, {'FullName': 'Fly (Drosophila melanogaster dm6)', 'Id': 6, 'Name': 'drosophila', 'TaxonomyId': 7227}, {'FullName': 'Macaca mulatta', 'Id': 7, 'Name': 'monkey', 'TaxonomyId': 9544}, {'FullName': 'Glycine max', 'Id': 8, 'Name': 'soybean', 'TaxonomyId': 3847}, {'FullName': 'Solanum lycopersicum', 'Id': 9, 'Name': 'tomato', 'TaxonomyId': 4081}, {'FullName': 'Populus trichocarpa', 'Id': 10, 'Name': 'poplar', 'TaxonomyId': 3689}, {'FullName': 'Oryzias latipes (Japanese medaka)', 'Id': 11, 'Name': 'medaka', 'TaxonomyId': 8090}, {'FullName': 'Bat (Glossophaga soricina)', 'Id': 12, 'Name': 'bat', 'TaxonomyId': 27638}]\n",
      "\n",
      "Content type: application/json, \n",
      "Status code is: 200\n",
      "\n",
      "Response content is not valid JSON\n",
      "\n",
      "Content type: text/html; charset=utf-8, \n",
      "Status code is: 200\n"
     ]
    }
   ],
   "source": [
    "gn_get_request_api()"
   ]
  },
  {
   "cell_type": "code",
   "execution_count": 15,
   "metadata": {},
   "outputs": [
    {
     "name": "stdout",
     "output_type": "stream",
     "text": [
      "{'title': 'Arabidopsis QTL dataset of Joosen_etal_2012', 'description': 'Fetching this QTL dataset from AraQTL and uploading it to GeneNetwork3', 'experiment': 'Joosen_etal_2012', 'date': '20231023', 'authors': 'Lisso', 'crosstype': 'Bay x Sha', 'Type': 'eQTL', 'Traits': '29304', 'Plant_parts': 'seeds', 'LODscore_file': 'https://www.bioinformatics.nl/AraQTL/media/data/Joosen_etal_2012/lod.txt', 'markers_file': 'https://www.bioinformatics.nl/AraQTL/media/data/West_etal_2007/marker.txt'}\n"
     ]
    }
   ],
   "source": [
    "## from Yuhao, build a rest api to upload data from araqtl to gn3 \n",
    "### Create a JSON file \n",
    "\n",
    "## added one experiment as an example\n",
    "\n",
    "\n",
    "QTL_json = {\n",
    "    \"title\": 'Arabidopsis QTL dataset of Joosen_etal_2012',\n",
    "    \"description\": 'Fetching this QTL dataset from AraQTL and uploading it to GeneNetwork3',\n",
    "    \"experiment\": 'Joosen_etal_2012',\n",
    "    \"date\":'20231023',\n",
    "    \"authors\": 'Lisso',\n",
    "    \"crosstype\": 'Bay x Sha',\n",
    "    \"Type\":'eQTL',\n",
    "    \"Traits\": '29304',\n",
    "    \"Plant_parts\": 'seeds',\n",
    "    \"LODscore_file\":'https://www.bioinformatics.nl/AraQTL/media/data/Joosen_etal_2012/lod.txt',\n",
    "    \"markers_file\":'https://www.bioinformatics.nl/AraQTL/media/data/West_etal_2007/marker.txt'\n",
    "}\n",
    "\n",
    "print(QTL_json)"
   ]
  },
  {
   "cell_type": "code",
   "execution_count": 13,
   "metadata": {},
   "outputs": [
    {
     "name": "stdout",
     "output_type": "stream",
     "text": [
      "{'userId': 1, 'title': 'Buy milk', 'completed': 'false'}\n"
     ]
    }
   ],
   "source": [
    "# test code to create a simple json file \n",
    "x = {\n",
    "    \"userId\": 1,\n",
    "    \"title\": \"Buy milk\", \n",
    "    \"completed\": 'false'\n",
    "}\n",
    "\n",
    "print(x)\n"
   ]
  },
  {
   "cell_type": "code",
   "execution_count": 20,
   "metadata": {},
   "outputs": [
    {
     "ename": "JSONDecodeError",
     "evalue": "Expecting value: line 2 column 1 (char 1)",
     "output_type": "error",
     "traceback": [
      "\u001b[0;31m---------------------------------------------------------------------------\u001b[0m",
      "\u001b[0;31mJSONDecodeError\u001b[0m                           Traceback (most recent call last)",
      "\u001b[1;32m/home/fetche/Desktop/Software_dev/Pjotr_software_team/GeneNetwork_23FL/API/Automated_GN3_API.ipynb Cell 6\u001b[0m line \u001b[0;36m2\n\u001b[1;32m     <a href='vscode-notebook-cell:/home/fetche/Desktop/Software_dev/Pjotr_software_team/GeneNetwork_23FL/API/Automated_GN3_API.ipynb#W5sZmlsZQ%3D%3D?line=17'>18</a>\u001b[0m headers\u001b[39m=\u001b[39m {\u001b[39m\"\u001b[39m\u001b[39mContent-Type\u001b[39m\u001b[39m\"\u001b[39m:\u001b[39m\"\u001b[39m\u001b[39mapplication/json\u001b[39m\u001b[39m\"\u001b[39m}\n\u001b[1;32m     <a href='vscode-notebook-cell:/home/fetche/Desktop/Software_dev/Pjotr_software_team/GeneNetwork_23FL/API/Automated_GN3_API.ipynb#W5sZmlsZQ%3D%3D?line=18'>19</a>\u001b[0m response \u001b[39m=\u001b[39m requests\u001b[39m.\u001b[39mpost(api_url, data\u001b[39m=\u001b[39mjson\u001b[39m.\u001b[39mdumps(Araqtl_dataset), headers\u001b[39m=\u001b[39mheaders)\n\u001b[0;32m---> <a href='vscode-notebook-cell:/home/fetche/Desktop/Software_dev/Pjotr_software_team/GeneNetwork_23FL/API/Automated_GN3_API.ipynb#W5sZmlsZQ%3D%3D?line=19'>20</a>\u001b[0m response\u001b[39m.\u001b[39;49mjson()\n",
      "File \u001b[0;32m/usr/lib/python3/dist-packages/requests/models.py:900\u001b[0m, in \u001b[0;36mResponse.json\u001b[0;34m(self, **kwargs)\u001b[0m\n\u001b[1;32m    894\u001b[0m         \u001b[39mexcept\u001b[39;00m \u001b[39mUnicodeDecodeError\u001b[39;00m:\n\u001b[1;32m    895\u001b[0m             \u001b[39m# Wrong UTF codec detected; usually because it's not UTF-8\u001b[39;00m\n\u001b[1;32m    896\u001b[0m             \u001b[39m# but some other 8-bit codec.  This is an RFC violation,\u001b[39;00m\n\u001b[1;32m    897\u001b[0m             \u001b[39m# and the server didn't bother to tell us what codec *was*\u001b[39;00m\n\u001b[1;32m    898\u001b[0m             \u001b[39m# used.\u001b[39;00m\n\u001b[1;32m    899\u001b[0m             \u001b[39mpass\u001b[39;00m\n\u001b[0;32m--> 900\u001b[0m \u001b[39mreturn\u001b[39;00m complexjson\u001b[39m.\u001b[39;49mloads(\u001b[39mself\u001b[39;49m\u001b[39m.\u001b[39;49mtext, \u001b[39m*\u001b[39;49m\u001b[39m*\u001b[39;49mkwargs)\n",
      "File \u001b[0;32m/usr/lib/python3.10/json/__init__.py:346\u001b[0m, in \u001b[0;36mloads\u001b[0;34m(s, cls, object_hook, parse_float, parse_int, parse_constant, object_pairs_hook, **kw)\u001b[0m\n\u001b[1;32m    341\u001b[0m     s \u001b[39m=\u001b[39m s\u001b[39m.\u001b[39mdecode(detect_encoding(s), \u001b[39m'\u001b[39m\u001b[39msurrogatepass\u001b[39m\u001b[39m'\u001b[39m)\n\u001b[1;32m    343\u001b[0m \u001b[39mif\u001b[39;00m (\u001b[39mcls\u001b[39m \u001b[39mis\u001b[39;00m \u001b[39mNone\u001b[39;00m \u001b[39mand\u001b[39;00m object_hook \u001b[39mis\u001b[39;00m \u001b[39mNone\u001b[39;00m \u001b[39mand\u001b[39;00m\n\u001b[1;32m    344\u001b[0m         parse_int \u001b[39mis\u001b[39;00m \u001b[39mNone\u001b[39;00m \u001b[39mand\u001b[39;00m parse_float \u001b[39mis\u001b[39;00m \u001b[39mNone\u001b[39;00m \u001b[39mand\u001b[39;00m\n\u001b[1;32m    345\u001b[0m         parse_constant \u001b[39mis\u001b[39;00m \u001b[39mNone\u001b[39;00m \u001b[39mand\u001b[39;00m object_pairs_hook \u001b[39mis\u001b[39;00m \u001b[39mNone\u001b[39;00m \u001b[39mand\u001b[39;00m \u001b[39mnot\u001b[39;00m kw):\n\u001b[0;32m--> 346\u001b[0m     \u001b[39mreturn\u001b[39;00m _default_decoder\u001b[39m.\u001b[39;49mdecode(s)\n\u001b[1;32m    347\u001b[0m \u001b[39mif\u001b[39;00m \u001b[39mcls\u001b[39m \u001b[39mis\u001b[39;00m \u001b[39mNone\u001b[39;00m:\n\u001b[1;32m    348\u001b[0m     \u001b[39mcls\u001b[39m \u001b[39m=\u001b[39m JSONDecoder\n",
      "File \u001b[0;32m/usr/lib/python3.10/json/decoder.py:337\u001b[0m, in \u001b[0;36mJSONDecoder.decode\u001b[0;34m(self, s, _w)\u001b[0m\n\u001b[1;32m    332\u001b[0m \u001b[39mdef\u001b[39;00m \u001b[39mdecode\u001b[39m(\u001b[39mself\u001b[39m, s, _w\u001b[39m=\u001b[39mWHITESPACE\u001b[39m.\u001b[39mmatch):\n\u001b[1;32m    333\u001b[0m \u001b[39m    \u001b[39m\u001b[39m\"\"\"Return the Python representation of ``s`` (a ``str`` instance\u001b[39;00m\n\u001b[1;32m    334\u001b[0m \u001b[39m    containing a JSON document).\u001b[39;00m\n\u001b[1;32m    335\u001b[0m \n\u001b[1;32m    336\u001b[0m \u001b[39m    \"\"\"\u001b[39;00m\n\u001b[0;32m--> 337\u001b[0m     obj, end \u001b[39m=\u001b[39m \u001b[39mself\u001b[39;49m\u001b[39m.\u001b[39;49mraw_decode(s, idx\u001b[39m=\u001b[39;49m_w(s, \u001b[39m0\u001b[39;49m)\u001b[39m.\u001b[39;49mend())\n\u001b[1;32m    338\u001b[0m     end \u001b[39m=\u001b[39m _w(s, end)\u001b[39m.\u001b[39mend()\n\u001b[1;32m    339\u001b[0m     \u001b[39mif\u001b[39;00m end \u001b[39m!=\u001b[39m \u001b[39mlen\u001b[39m(s):\n",
      "File \u001b[0;32m/usr/lib/python3.10/json/decoder.py:355\u001b[0m, in \u001b[0;36mJSONDecoder.raw_decode\u001b[0;34m(self, s, idx)\u001b[0m\n\u001b[1;32m    353\u001b[0m     obj, end \u001b[39m=\u001b[39m \u001b[39mself\u001b[39m\u001b[39m.\u001b[39mscan_once(s, idx)\n\u001b[1;32m    354\u001b[0m \u001b[39mexcept\u001b[39;00m \u001b[39mStopIteration\u001b[39;00m \u001b[39mas\u001b[39;00m err:\n\u001b[0;32m--> 355\u001b[0m     \u001b[39mraise\u001b[39;00m JSONDecodeError(\u001b[39m\"\u001b[39m\u001b[39mExpecting value\u001b[39m\u001b[39m\"\u001b[39m, s, err\u001b[39m.\u001b[39mvalue) \u001b[39mfrom\u001b[39;00m \u001b[39mNone\u001b[39;00m\n\u001b[1;32m    356\u001b[0m \u001b[39mreturn\u001b[39;00m obj, end\n",
      "\u001b[0;31mJSONDecodeError\u001b[0m: Expecting value: line 2 column 1 (char 1)"
     ]
    }
   ],
   "source": [
    "## Create a rest api post request to upload the json file into genenetwork2 \n",
    "import requests \n",
    "import json\n",
    "api_url = \"https://genenetwork.org/AraQTL\"\n",
    "Araqtl_dataset =  {\n",
    "    \"title\": 'Arabidopsis QTL dataset of Joosen_etal_2012',\n",
    "    \"description\": 'Fetching this QTL dataset from AraQTL and uploading it to GeneNetwork3',\n",
    "    \"experiment\": 'Joosen_etal_2012',\n",
    "    \"date\":'20231023',\n",
    "    \"authors\": 'Lisso',\n",
    "    \"crosstype\": 'Bay x Sha',\n",
    "    \"Type\":'eQTL',\n",
    "    \"Traits\": '29304',\n",
    "    \"Plant_parts\": 'seeds',\n",
    "    \"LODscore_file\":'https://www.bioinformatics.nl/AraQTL/media/data/Joosen_etal_2012/lod.txt',\n",
    "    \"markers_file\":'https://www.bioinformatics.nl/AraQTL/media/data/West_etal_2007/marker.txt'\n",
    "}\n",
    "headers= {\"Content-Type\":\"application/json\"}\n",
    "response = requests.post(api_url, data=json.dumps(Araqtl_dataset), headers=headers)\n",
    "response.json()"
   ]
  }
 ],
 "metadata": {
  "kernelspec": {
   "display_name": "Python 3",
   "language": "python",
   "name": "python3"
  },
  "language_info": {
   "codemirror_mode": {
    "name": "ipython",
    "version": 3
   },
   "file_extension": ".py",
   "mimetype": "text/x-python",
   "name": "python",
   "nbconvert_exporter": "python",
   "pygments_lexer": "ipython3",
   "version": "3.10.12"
  }
 },
 "nbformat": 4,
 "nbformat_minor": 2
}
